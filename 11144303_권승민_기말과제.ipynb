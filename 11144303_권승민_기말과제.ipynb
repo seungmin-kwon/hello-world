{
  "nbformat": 4,
  "nbformat_minor": 0,
  "metadata": {
    "colab": {
      "name": "11144303 권승민 기말과제",
      "provenance": [],
      "collapsed_sections": [],
      "include_colab_link": true
    },
    "kernelspec": {
      "name": "python3",
      "display_name": "Python 3"
    }
  },
  "cells": [
    {
      "cell_type": "markdown",
      "metadata": {
        "id": "view-in-github",
        "colab_type": "text"
      },
      "source": [
        "<a href=\"https://colab.research.google.com/github/seungmin-kwon/hello-world/blob/master/11144303_%EA%B6%8C%EC%8A%B9%EB%AF%BC_%EA%B8%B0%EB%A7%90%EA%B3%BC%EC%A0%9C.ipynb\" target=\"_parent\"><img src=\"https://colab.research.google.com/assets/colab-badge.svg\" alt=\"Open In Colab\"/></a>"
      ]
    },
    {
      "cell_type": "markdown",
      "metadata": {
        "id": "i-wdr4-u3TaQ",
        "colab_type": "text"
      },
      "source": [
        "11144303 권승민 기말과제\n"
      ]
    },
    {
      "cell_type": "markdown",
      "metadata": {
        "id": "qJRW00-m3iar",
        "colab_type": "text"
      },
      "source": [
        "## 1. Laplace's Equation in the Sphere"
      ]
    },
    {
      "cell_type": "markdown",
      "metadata": {
        "id": "Q9x0bStG3ipV",
        "colab_type": "text"
      },
      "source": [
        ">$\\begin{align*}\n",
        " u_{rr} +\\frac{2}{r} u_r &+\\frac{1}{r^2}u_{\\phi\\phi} +\\frac{\\cot\\phi}{r^2} u_{\\phi} +\\frac{1}{r^2\\sin^2\\phi}u_{\\theta\\theta} = 0, \\;\\; r < R \\\\ \n",
        " u(R,\\phi,\\theta) &= g(\\phi,\\theta)\\\\ \n",
        "\\end{align*}$"
      ]
    },
    {
      "cell_type": "markdown",
      "metadata": {
        "id": "4t6xt6SvDYZn",
        "colab_type": "text"
      },
      "source": [
        "### (a) Solve this problem by separation of variables"
      ]
    },
    {
      "cell_type": "markdown",
      "metadata": {
        "id": "zKn5bU3P3iv1",
        "colab_type": "text"
      },
      "source": [
        "\n",
        "양변에 $\\displaystyle r^2 $을 곱한다\n",
        ">$\\displaystyle r^2u_{rr}+2ru_r+u_{\\phi\\phi}+cot{\\phi}u_\\phi+\\frac{1}{\\sin^2\\phi}u_{\\theta\\theta} = 0 $\n",
        "\n",
        "\n",
        "먼저 다음을 이용하여 변수분리 한다.\n",
        "\n",
        ">$\\displaystyle u(r,\\phi,\\theta)=R(r)Y(\\phi,\\theta)$\n",
        "\n",
        "아래 2개의 식을 얻는다\n",
        "\n",
        ">$\\begin{align*}\n",
        "\\frac{r^2R''+ 2rR'} {-R}  = -\\lambda\\\\\n",
        "\\end{align*}$\n",
        "\n",
        ">$\\begin{align*}\n",
        "\\frac{Y_{\\phi\\phi}+\\cot\\phi Y_\\phi + \\frac{1}{\\sin^2\\phi}Y_{\\theta\\theta}} {Y}  = -\\lambda\\\\\n",
        "\\end{align*}$\n",
        "\n",
        "위 식을 정리하면 다음과 같다.\n",
        ">$\\displaystyle r^2R''+ 2rR' =R\\lambda $\n",
        "\n",
        ">$\\displaystyle Y_{\\phi\\phi}+\\cot\\phi Y_\\phi + \\frac{1}{\\sin^2\\phi}Y_{\\theta\\theta}=-Y\\lambda $\n",
        "\n",
        "\n",
        "다시 다음을 식을 이용하여 다시 변수 분리 한다.\n",
        "\n",
        ">$\\displaystyle Y(\\phi,\\theta)= \\Phi(\\phi)\\Theta(\\theta)$\n",
        "\n",
        "아래 2개의 식을 얻는다.\n",
        "\n",
        ">$\\displaystyle \\frac{\\Theta''}{\\Theta} = - \\mu $\n",
        "\n",
        ">$\\displaystyle -(\\frac{\\sin\\phi}{\\Phi}\\frac{d}{d\\Phi}[\\sin\\phi\\Phi']+\\lambda\\sin^2\\phi)= - \\mu $\n",
        "\n",
        "위 식을 정리하면 다음과 같다.\n",
        "\n",
        ">$\\displaystyle \\Theta''+\\mu\\Theta=0 $\n",
        "\n",
        ">$\\displaystyle (\\frac{\\sin\\phi}{\\Phi}\\frac{d}{d\\Phi}[\\sin\\phi\\Phi']+\\lambda\\sin^2\\phi)= \\mu $\n",
        "\n",
        "\n",
        "\n"
      ]
    },
    {
      "cell_type": "markdown",
      "metadata": {
        "id": "ZHikgRww5R4g",
        "colab_type": "text"
      },
      "source": [
        "(1) $\\displaystyle \\Theta''+\\mu\\Theta=0 $\n",
        "\n",
        ">$\\begin{align*}\n",
        "\\Theta(0) = \\Theta(2\\pi) \\\\\n",
        "\\Theta'(0) = \\Theta'(2\\pi) \\\\\n",
        "\\end{align*}$\n",
        "\n",
        "이것을 풀면 고유값 $\\displaystyle \\mu_n=n^2 , n=0,1,2 \\cdots $\n",
        "\n",
        "고유함수 $\\displaystyle \\Theta_n(\\theta)=a_n\\cos n\\theta +a_n\\sin n\\theta $"
      ]
    },
    {
      "cell_type": "markdown",
      "metadata": {
        "id": "blQFrh_BxqjS",
        "colab_type": "text"
      },
      "source": [
        "(2)$\\displaystyle \\frac{\\sin\\phi}{\\Phi}\\frac{d}{d\\Phi}[\\sin\\phi\\Phi']+\\lambda\\sin^2\\phi= \\mu $\n",
        "\n",
        "고유값 $\\displaystyle \\mu_n $을 이용하여 식을 정리한다.\n",
        "\n",
        "$\\displaystyle [\\sin\\phi\\Phi']'+(\\lambda-\\frac{n^2}{\\sin^2\\phi})\\Phi\\sin\\phi $\n",
        "\n",
        "$\\displaystyle x=cos\\phi $ 를 이용하여 치환한 후 정리하면\n",
        "\n",
        "$\\displaystyle \\frac{d}{dx}[(1-x^2)\\frac{d\\Phi}{dx}]+(\\lambda-\\frac{n^2}{1-x^2})\\Phi$\n",
        "\n",
        "고유값 $\\displaystyle \\lambda_l=l(l+1), l=0,1,2\\cdots $이라 하면 고유함수는 $\\displaystyle P^l_n(\\cos\\phi) $이다\n",
        "\n",
        "$\\displaystyle P^l_n $은 연관된 르장드르 함수(Associated Legendre Function)를 만족하는 해다.\n",
        "\n",
        " $\\displaystyle P^l_n= (-1)^m(1-x^2)^\\frac{m}{2}\\frac{d^n}{dx^n}(P_l(x)) $\n",
        "\n"
      ]
    },
    {
      "cell_type": "markdown",
      "metadata": {
        "id": "vaYGpQVv-YUW",
        "colab_type": "text"
      },
      "source": [
        "(3) $\\displaystyle r^2R''+ 2rR' =R\\lambda $\n",
        "\n",
        "$\\displaystyle r^2R''+ 2rR' -R\\lambda=0 $ 이 식은 오일러 식이다.\n",
        "\n",
        "따라서 $\\displaystyle R_l=c_lr^l+d_lr^{-(l+1)} $\n",
        "\n",
        "$\\displaystyle (\\lambda=l(l+1))$\n",
        "\n",
        "조건에 따라 $\\displaystyle R_l = c_lr^l $"
      ]
    },
    {
      "cell_type": "markdown",
      "metadata": {
        "id": "OY8yx5i6ALGv",
        "colab_type": "text"
      },
      "source": [
        "따라서 구하고 싶은 해 $\\displaystyle u(r,\\phi, \\theta) = R(r)\\Phi(\\phi)\\Theta(\\theta)$이므로\n",
        "\n",
        " $\\displaystyle u(r,\\phi, \\theta) =\\sum_{n=1}^{\\infty}\\sum_{l=1}^{\\infty}r^lP_n^l(a_{nl}\\cos n\\theta+b_{nl}\\sin n\\theta) $\n",
        "\n",
        " $\\displaystyle u(R,\\phi, \\theta) = g(\\phi,\\theta) = \\sum_{n=1}^{\\infty}\\sum_{l=1}^{\\infty}R^lP_n^l(a_{nl}\\cos n\\theta+b_{nl}\\sin n\\theta) $"
      ]
    },
    {
      "cell_type": "markdown",
      "metadata": {
        "id": "OGXDTDusDo83",
        "colab_type": "text"
      },
      "source": [
        "### (b) derive $K(r,\\phi,\\theta; R,\\varphi,\\vartheta)$ in the equivalent integral formula:\n",
        "\n",
        ">$\\displaystyle u(r,\\phi,\\theta) = \\int_0^{2\\pi} \\int_0^\\pi K(r,\\phi,\\theta; R,\\varphi,\\vartheta)\\, g(\\varphi,\\vartheta) \\sin\\varphi \\,d\\varphi \\, d\\vartheta$\n"
      ]
    },
    {
      "cell_type": "markdown",
      "metadata": {
        "id": "IqOAlN4CD6s_",
        "colab_type": "text"
      },
      "source": [
        "잘모르겠습니다."
      ]
    },
    {
      "cell_type": "markdown",
      "metadata": {
        "id": "Bq6-510XEDM0",
        "colab_type": "text"
      },
      "source": [
        "## 2. Poisson's Equation for the Sphere\n",
        ">$\\begin{align*}\n",
        " u_{rr} +\\frac{2}{r} u_r &+\\frac{1}{r^2}u_{\\phi\\phi} +\\frac{\\cot\\phi}{r^2} u_{\\phi} +\\frac{1}{r^2\\sin^2\\phi}u_{\\theta\\theta} = -F(r,\\phi,\\theta), \\;\\; r < R \\\\ \n",
        " u(R,\\phi,\\theta) &= 0\\\\ \n",
        "\\end{align*}$"
      ]
    },
    {
      "cell_type": "markdown",
      "metadata": {
        "id": "WDimrqZAEGpz",
        "colab_type": "text"
      },
      "source": [
        "### (a) solve by taking the finite Fourier Transforms"
      ]
    },
    {
      "cell_type": "markdown",
      "metadata": {
        "id": "RwBjvnbuLxJY",
        "colab_type": "text"
      },
      "source": [
        ">$\\begin{align*}\n",
        " \\mathcal{F}_s[u]&=\\frac{1}{\\pi} \\int_0^{2\\pi} u(r,\\phi,\\theta)\\,\\sin\\frac{n\\theta}{2} \\,d\\theta =b_n &\\;\\;\\;\\text{Finite Sine Transform} \\\\ \n",
        " \\end {align*}\n",
        " $"
      ]
    },
    {
      "cell_type": "markdown",
      "metadata": {
        "id": "rMT__5xBEG4r",
        "colab_type": "text"
      },
      "source": [
        "### (b) derive $G(r,\\phi,\\theta; \\rho,\\varphi,\\vartheta)$ in the equivalent integral formula:\n",
        "\n",
        ">$\\displaystyle u(r,\\phi,\\theta) = \\int_0^{2\\pi} \\int_0^\\pi \\int_0^R G(r,\\phi,\\theta; \\rho,\\varphi,\\vartheta)\\, F(\\rho, \\varphi,\\vartheta) \\,\\rho^2 \\sin\\varphi \\,d\\rho \\,d\\varphi \\, d\\vartheta$"
      ]
    },
    {
      "cell_type": "markdown",
      "metadata": {
        "id": "gL5Ztx2ZM58X",
        "colab_type": "text"
      },
      "source": [
        "잘모르겠습니다."
      ]
    }
  ]
}